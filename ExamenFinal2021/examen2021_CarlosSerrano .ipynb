{
  "nbformat": 4,
  "nbformat_minor": 0,
  "metadata": {
    "kernelspec": {
      "display_name": "Python 3",
      "language": "python",
      "name": "python3"
    },
    "language_info": {
      "codemirror_mode": {
        "name": "ipython",
        "version": 3
      },
      "file_extension": ".py",
      "mimetype": "text/x-python",
      "name": "python",
      "nbconvert_exporter": "python",
      "pygments_lexer": "ipython3",
      "version": "3.7.4"
    },
    "toc": {
      "base_numbering": 1,
      "nav_menu": {},
      "number_sections": true,
      "sideBar": true,
      "skip_h1_title": false,
      "title_cell": "Table of Contents",
      "title_sidebar": "Contents",
      "toc_cell": false,
      "toc_position": {},
      "toc_section_display": true,
      "toc_window_display": true
    },
    "colab": {
      "name": "examen2021v2.ipynb",
      "provenance": [],
      "collapsed_sections": []
    }
  },
  "cells": [
    {
      "cell_type": "markdown",
      "metadata": {
        "id": "sq4oinaY5Ip5"
      },
      "source": [
        "# TAREA FINAL: Datos de vivienda\n",
        "### Carlos Serrano Valera\n",
        "### 01/02/21\n",
        "\n",
        "\n",
        "<p> El negocio inmobiliario es uno de los motores de la economía de España, el carácter turístico de nuesta península hace que sean muchos los inversores extranjeros que se decidan por buscar una inversión de bajo riesgos en nuestras ciudades costeras o grandes urbes. \n",
        "Muchas de estas inversiones se hacen sobre grandes bolsas de inmuebles que deben ser analizados previamente para comprobar la rentabilidad del porfolio </p>\n",
        "\n",
        "<!-- <p> En este caso vamos a trabajar con una tabla que contienen información de distintos inmuebles repartidos por una zona específica, sus carácterísticas y su precio </p>  -->"
      ]
    },
    {
      "cell_type": "markdown",
      "metadata": {
        "id": "Gio-eITW5Ip7"
      },
      "source": [
        "Todas las cuestiones se deben realizar sobre el conjunto de casos que representen viviendas ubicadas en zonas residenciales **(alta, media y baja densidad)**"
      ]
    },
    {
      "cell_type": "markdown",
      "metadata": {
        "id": "Y-SxZ7PD5Ip8"
      },
      "source": [
        "**MUY IMPORTANTE:** En las otras prácticas he detectado colaboraciones involucrando varias personas y he sido flexible aunque a algunos os lo he mencionado en las correcciones, porque al final el trabajo de analista de datos es un trabajo colaborativo. Sin embargo, este trabajo es individual, así que cuidado con las colaboraciones."
      ]
    },
    {
      "cell_type": "markdown",
      "metadata": {
        "id": "Bh1QV37C5Ip9"
      },
      "source": [
        "Las variables de las que se compone el dataset son:"
      ]
    },
    {
      "cell_type": "markdown",
      "metadata": {
        "id": "Xd8laDnU5Ip9"
      },
      "source": [
        "|NOMBRE VARIABLE|DESCRIPTOR|VALORES|\n",
        "| --- | --- | --- |\n",
        "|Order|Variable de identificación|1 a 2930|\n",
        "|MS Zoning|Zona de ubicación de la vivienda|\"A rural, C comercial, FV residencial flotante, I industrial, RH residencial alta densidad, RL residencial baja densidad, RM residencial media densidad\"|\n",
        "|Lot Frontage|Longitud de la fachada en pies||\n",
        "|Lot Area|Superficie de la vivienda en pies cuadrados||\n",
        "|Land Contour|Contorno del terreno circundante|\"Lvl llano, Bnk Tipo bancal, HLS Ladera, Low Depresión\"|\n",
        "|Land Slope|Tipo de pendiente de la vivienda|\" Gtl pendiente suave, Mod pendiente moderada, Sev fuerte pendiente\"|\n",
        "|Overall Qual|Grado de calidad de materiales y acabado de la vivienda|De 1 (Muy pobre) a 10 (Excelente)|\n",
        "|Year Built|Año de construccion de la vivienda||\n",
        "|Year Remod/Add|Año de última reforma de la vivienda||\n",
        "|Mas Vnr Type|Tipo de revestimiento exterior|\" BrkCmn Ladrillo normal, BrkFace Ladrillo visto, CBlock Bloque de cemento, None Ninguna, Stone Piedra \"|\n",
        "|Exter Qual|Calidad de revestimiento exterior|\"Ex Excelente,Gd Bueno,TA Media,Fa Justo\"|\n",
        "|Bsmt Cond|Estado general del sótano|\"Ex Excelente, Gd Bueno, TA Media, Fa Justo, Po Pobre,Ss sin sótano\"|\n",
        "|Total Bsmt SF|Superficie del sótano en pies cuadrados|\n",
        "|Heating QC|Calidad de la calefacción|\"Ex Excelente,Gd Bueno,TA Media,Fa Justo,Po Pobre\"|\n",
        "|Central Air|Aire acondicionado centralizado|\"N No Y Sí\"|\n",
        "|Full Bath|Número de baños completo en planta||\n",
        "|Half Bath|Número de aseos en planta||\n",
        "|Bedroom AbvGr|Número de dormitorios en planta||\n",
        "|Kitchen AbvGr|Número de cocinas en planta||\n",
        "|Kitchen Qual|Calidad de cocinas|\"Ex Excelente,Gd Bueno,TA Media,Fa Justo,Po Pobre\"|\n",
        "|TotRms AbvGrd|Número total de habitaciones excluidos los cuartos de baño||\n",
        "|Garage Cars|Número de plazas de garaje||\n",
        "|Garage Area|Superficie del garaje|||\n",
        "|Garage Cond|Estado del garaje|\"Ex Excelente,Gd Bueno,TA Media,Fa Justo,Po Pobre,Sg sin garaje\"|\n",
        "|Pool Area|Superficie de la piscina en pies cuadrados|\n",
        "|Pool QC|Calidad de la piscina|\"Ex Excelente,Gd Bueno,TA Media,Fa Justo,Sp no hay piscina\"|\n",
        "|Mo Sold|mes de venta||\n",
        "|Yr Sold|año de venta||\n",
        "|SalePrice|precio de venta en dólares||"
      ]
    },
    {
      "cell_type": "markdown",
      "metadata": {
        "id": "1eKaKyS-5Ip9"
      },
      "source": [
        "Recomiendo al leer los datos, eliminar espacios de los nombres de las columnas, realiza un pequeño análisis inicial de los mismos. No olvides fijarte en los tipos de variables, que variables pueden tener tipos confundidos y corrige los. Sobre todo, trabaja con las fechas."
      ]
    },
    {
      "cell_type": "markdown",
      "metadata": {
        "id": "C9ajtJtK5Ip-"
      },
      "source": [
        "**NOTA:** Las tareas complementarias sirven para subir nota. El resto de preguntas valen igual y suman 10 puntos."
      ]
    },
    {
      "cell_type": "markdown",
      "metadata": {
        "id": "gWsfauwE5Ip-"
      },
      "source": [
        "## Inicializar y cargar el contexto spark"
      ]
    },
    {
      "cell_type": "code",
      "metadata": {
        "id": "Dg9a5fc856fj"
      },
      "source": [
        "!apt-get install openjdk-8-jdk-headless -qq > /dev/null\r\n",
        "!wget -q https://www-us.apache.org/dist/spark/spark-2.4.7/spark-2.4.7-bin-hadoop2.7.tgz\r\n",
        "!tar xf spark-2.4.7-bin-hadoop2.7.tgz #d\r\n",
        "!pip install -q findspark \r\n",
        "\r\n",
        "import os\r\n",
        "os.environ[\"JAVA_HOME\"] = \"/usr/lib/jvm/java-8-openjdk-amd64\" #funciones dels sistema de python para cambiar variables de entorno y que funcione\r\n",
        "os.environ[\"SPARK_HOME\"] = \"/content/spark-2.4.7-bin-hadoop2.7\"\r\n",
        "\r\n",
        "import findspark #tenemos que generar un contexto spark para trabajar\r\n",
        "findspark.init()\r\n",
        "from pyspark import SparkContext\r\n",
        "sc = SparkContext()\r\n",
        "from pyspark.sql import SparkSession\r\n",
        "spark = SparkSession.builder.master(\"local[*]\").getOrCreate() #generamos una sesi\r\n"
      ],
      "execution_count": 3,
      "outputs": []
    },
    {
      "cell_type": "code",
      "metadata": {
        "id": "YtNe0PY5PTZH"
      },
      "source": [
        "# Importamos las sesiones\r\n",
        "from pyspark.sql.functions import col, avg, desc, sum"
      ],
      "execution_count": 59,
      "outputs": []
    },
    {
      "cell_type": "markdown",
      "metadata": {
        "id": "Xwr_YR8uoYkB"
      },
      "source": [
        "A continuación ,cargamos los datos. Estos vienen separados por \";\", por lo que he especificado ese parámetro en la función de lectura.\r\n",
        "Se muestran las 10 primeras entradas"
      ]
    },
    {
      "cell_type": "code",
      "metadata": {
        "colab": {
          "base_uri": "https://localhost:8080/"
        },
        "id": "lpo7myNR6Hmv",
        "outputId": "c09e0123-735b-411f-e93d-d9e949f1d2f4"
      },
      "source": [
        "# Cargamos los datos\r\n",
        "raw_viviendas = spark.read.format(\"csv\") \\\r\n",
        "    .option(\"sep\", \";\") \\\r\n",
        "    .option(\"header\", \"true\") \\\r\n",
        "    .option(\"inferSchema\", \"true\") \\\r\n",
        "    .load(\"BDpracticafinalCSV.csv\")\r\n",
        "\r\n",
        "# Vemos las primeras 10 filas\r\n",
        "raw_viviendas.show(10)"
      ],
      "execution_count": 5,
      "outputs": [
        {
          "output_type": "stream",
          "text": [
            "+-----+---------+------------+--------+------------+----------+------------+----------+--------------+------------+----------+---------+-------------+----------+-----------+---------+---------+-------------+-------------+------------+-------------+-----------+-----------+-----------+---------+-------+-------+-------+---------+\n",
            "|Order|MS Zoning|Lot Frontage|Lot Area|Land Contour|Land Slope|Overall Qual|Year Built|Year Remod/Add|Mas Vnr Type|Exter Qual|Bsmt Cond|Total Bsmt SF|Heating QC|Central Air|Full Bath|Half Bath|Bedroom AbvGr|Kitchen AbvGr|Kitchen Qual|TotRms AbvGrd|Garage Cars|Garage Area|Garage Cond|Pool Area|Pool QC|Mo Sold|Yr Sold|SalePrice|\n",
            "+-----+---------+------------+--------+------------+----------+------------+----------+--------------+------------+----------+---------+-------------+----------+-----------+---------+---------+-------------+-------------+------------+-------------+-----------+-----------+-----------+---------+-------+-------+-------+---------+\n",
            "|    1|       RL|         141|   31770|         Lvl|       Gtl|           6|      1960|          1960|       Stone|        TA|       Gd|         1080|        Fa|          Y|        1|        0|            3|            1|          TA|            7|          2|        528|         TA|        0|     Sp|      5|   2010|   215000|\n",
            "|    2|       RH|          80|   11622|         Lvl|       Gtl|           5|      1961|          1961|        None|        TA|       TA|          882|        TA|          Y|        1|        0|            2|            1|          TA|            5|          1|        730|         TA|        0|     Sp|      6|   2010|   105000|\n",
            "|    3|       RL|          81|   14267|         Lvl|       Gtl|           6|      1958|          1958|     BrkFace|        TA|       TA|         1329|        TA|          Y|        1|        1|            3|            1|          Gd|            6|          1|        312|         TA|        0|     Sp|      6|   2010|   172000|\n",
            "|    4|       RL|          93|   11160|         Lvl|       Gtl|           7|      1968|          1968|        None|        Gd|       TA|         2110|        Ex|          Y|        2|        1|            3|            1|          Ex|            8|          2|        522|         TA|        0|     Sp|      4|   2010|   244000|\n",
            "|    5|       RL|          74|   13830|         Lvl|       Gtl|           5|      1997|          1998|        None|        TA|       TA|          928|        Gd|          Y|        2|        1|            3|            1|          TA|            6|          2|        482|         TA|        0|     Sp|      3|   2010|   189900|\n",
            "|    6|       RL|          78|    9978|         Lvl|       Gtl|           6|      1998|          1998|     BrkFace|        TA|       TA|          926|        Ex|          Y|        2|        1|            3|            1|          Gd|            7|          2|        470|         TA|        0|     Sp|      6|   2010|   195500|\n",
            "|    7|       RL|          41|    4920|         Lvl|       Gtl|           8|      2001|          2001|        None|        Gd|       TA|         1338|        Ex|          Y|        2|        0|            2|            1|          Gd|            6|          2|        582|         TA|        0|     Sp|      4|   2010|   213500|\n",
            "|    8|       RL|          43|    5005|         HLS|       Gtl|           8|      1992|          1992|        None|        Gd|       TA|         1280|        Ex|          Y|        2|        0|            2|            1|          Gd|            5|          2|        506|         TA|        0|     Sp|      1|   2010|   191500|\n",
            "|    9|       RL|          39|    5389|         Lvl|       Gtl|           8|      1995|          1996|        None|        Gd|       TA|         1595|        Ex|          Y|        2|        0|            2|            1|          Gd|            5|          2|        608|         TA|        0|     Sp|      3|   2010|   236500|\n",
            "|   10|       RL|          60|    7500|         Lvl|       Gtl|           7|      1999|          1999|        None|        TA|       TA|          994|        Gd|          Y|        2|        1|            3|            1|          Gd|            7|          2|        442|         TA|        0|     Sp|      6|   2010|   189000|\n",
            "+-----+---------+------------+--------+------------+----------+------------+----------+--------------+------------+----------+---------+-------------+----------+-----------+---------+---------+-------------+-------------+------------+-------------+-----------+-----------+-----------+---------+-------+-------+-------+---------+\n",
            "only showing top 10 rows\n",
            "\n"
          ],
          "name": "stdout"
        }
      ]
    },
    {
      "cell_type": "markdown",
      "metadata": {
        "id": "wfdBRsWJoq-V"
      },
      "source": [
        "Hacemos un count para comprobar las observaciones que hay"
      ]
    },
    {
      "cell_type": "code",
      "metadata": {
        "colab": {
          "base_uri": "https://localhost:8080/"
        },
        "id": "o-BDG56R3rsG",
        "outputId": "11e54de9-26e4-4bbc-9fa8-88aada626f55"
      },
      "source": [
        "raw_viviendas.count()"
      ],
      "execution_count": 12,
      "outputs": [
        {
          "output_type": "execute_result",
          "data": {
            "text/plain": [
              "2936"
            ]
          },
          "metadata": {
            "tags": []
          },
          "execution_count": 12
        }
      ]
    },
    {
      "cell_type": "markdown",
      "metadata": {
        "id": "J3unyymv25S3"
      },
      "source": [
        "A continuación, voy a renombrar los nombres de las columnas, eliminando los espacios entre las palabras. Para ello he utilizado el paquete quinn, con la función `with_columns_renamed` "
      ]
    },
    {
      "cell_type": "code",
      "metadata": {
        "colab": {
          "base_uri": "https://localhost:8080/",
          "height": 401
        },
        "id": "JnBDuc4Yzwpz",
        "outputId": "8a12c578-8fce-4399-f9c7-035cf230936c"
      },
      "source": [
        "!pip install quinn"
      ],
      "execution_count": 7,
      "outputs": [
        {
          "output_type": "stream",
          "text": [
            "Collecting quinn\n",
            "  Downloading https://files.pythonhosted.org/packages/79/ce/f4224b13f33d7849d718e1690efef1c3ae594637f0b1f797550ca1c4f041/quinn-0.8.0-py2.py3-none-any.whl\n",
            "Collecting pyspark>2.0.0\n",
            "\u001b[?25l  Downloading https://files.pythonhosted.org/packages/f0/26/198fc8c0b98580f617cb03cb298c6056587b8f0447e20fa40c5b634ced77/pyspark-3.0.1.tar.gz (204.2MB)\n",
            "\u001b[K     |████████████████████████████████| 204.2MB 73kB/s \n",
            "\u001b[?25hCollecting py4j==0.10.9\n",
            "\u001b[33m  WARNING: Retrying (Retry(total=4, connect=None, read=None, redirect=None, status=None)) after connection broken by 'ProtocolError('Connection aborted.', ConnectionResetError(104, 'Connection reset by peer'))': /packages/9e/b6/6a4fb90cd235dc8e265a6a2067f2a2c99f0d91787f06aca4bcf7c23f3f80/py4j-0.10.9-py2.py3-none-any.whl\u001b[0m\n",
            "\u001b[?25l  Downloading https://files.pythonhosted.org/packages/9e/b6/6a4fb90cd235dc8e265a6a2067f2a2c99f0d91787f06aca4bcf7c23f3f80/py4j-0.10.9-py2.py3-none-any.whl (198kB)\n",
            "\u001b[K     |████████████████████████████████| 204kB 7.0MB/s \n",
            "\u001b[?25hBuilding wheels for collected packages: pyspark\n",
            "  Building wheel for pyspark (setup.py) ... \u001b[?25l\u001b[?25hdone\n",
            "  Created wheel for pyspark: filename=pyspark-3.0.1-py2.py3-none-any.whl size=204612242 sha256=c1478d2408e42078bbb9b01e45e81d65460aa8cb5b0f07a56187d1b20ed93b7f\n",
            "  Stored in directory: /root/.cache/pip/wheels/5e/bd/07/031766ca628adec8435bb40f0bd83bb676ce65ff4007f8e73f\n",
            "Successfully built pyspark\n",
            "Installing collected packages: py4j, pyspark, quinn\n",
            "Successfully installed py4j-0.10.9 pyspark-3.0.1 quinn-0.8.0\n"
          ],
          "name": "stdout"
        },
        {
          "output_type": "display_data",
          "data": {
            "application/vnd.colab-display-data+json": {
              "pip_warning": {
                "packages": [
                  "py4j",
                  "pyspark"
                ]
              }
            }
          },
          "metadata": {
            "tags": []
          }
        }
      ]
    },
    {
      "cell_type": "code",
      "metadata": {
        "colab": {
          "base_uri": "https://localhost:8080/"
        },
        "id": "jTz_FYNNIZRR",
        "outputId": "536e9b86-0892-427a-fbf0-0f21638e00d7"
      },
      "source": [
        "\r\n",
        "import quinn\r\n",
        "def spaces_to_underscores(s):\r\n",
        "    return s.replace(\" \", \"_\")\r\n",
        "raw_viviendas = quinn.with_columns_renamed(spaces_to_underscores)(raw_viviendas)\r\n",
        "raw_viviendas.show()"
      ],
      "execution_count": 8,
      "outputs": [
        {
          "output_type": "stream",
          "text": [
            "+-----+---------+------------+--------+------------+----------+------------+----------+--------------+------------+----------+---------+-------------+----------+-----------+---------+---------+-------------+-------------+------------+-------------+-----------+-----------+-----------+---------+-------+-------+-------+---------+\n",
            "|Order|MS_Zoning|Lot_Frontage|Lot_Area|Land_Contour|Land_Slope|Overall_Qual|Year_Built|Year_Remod/Add|Mas_Vnr_Type|Exter_Qual|Bsmt_Cond|Total_Bsmt_SF|Heating_QC|Central_Air|Full_Bath|Half_Bath|Bedroom_AbvGr|Kitchen_AbvGr|Kitchen_Qual|TotRms_AbvGrd|Garage_Cars|Garage_Area|Garage_Cond|Pool_Area|Pool_QC|Mo_Sold|Yr_Sold|SalePrice|\n",
            "+-----+---------+------------+--------+------------+----------+------------+----------+--------------+------------+----------+---------+-------------+----------+-----------+---------+---------+-------------+-------------+------------+-------------+-----------+-----------+-----------+---------+-------+-------+-------+---------+\n",
            "|    1|       RL|         141|   31770|         Lvl|       Gtl|           6|      1960|          1960|       Stone|        TA|       Gd|         1080|        Fa|          Y|        1|        0|            3|            1|          TA|            7|          2|        528|         TA|        0|     Sp|      5|   2010|   215000|\n",
            "|    2|       RH|          80|   11622|         Lvl|       Gtl|           5|      1961|          1961|        None|        TA|       TA|          882|        TA|          Y|        1|        0|            2|            1|          TA|            5|          1|        730|         TA|        0|     Sp|      6|   2010|   105000|\n",
            "|    3|       RL|          81|   14267|         Lvl|       Gtl|           6|      1958|          1958|     BrkFace|        TA|       TA|         1329|        TA|          Y|        1|        1|            3|            1|          Gd|            6|          1|        312|         TA|        0|     Sp|      6|   2010|   172000|\n",
            "|    4|       RL|          93|   11160|         Lvl|       Gtl|           7|      1968|          1968|        None|        Gd|       TA|         2110|        Ex|          Y|        2|        1|            3|            1|          Ex|            8|          2|        522|         TA|        0|     Sp|      4|   2010|   244000|\n",
            "|    5|       RL|          74|   13830|         Lvl|       Gtl|           5|      1997|          1998|        None|        TA|       TA|          928|        Gd|          Y|        2|        1|            3|            1|          TA|            6|          2|        482|         TA|        0|     Sp|      3|   2010|   189900|\n",
            "|    6|       RL|          78|    9978|         Lvl|       Gtl|           6|      1998|          1998|     BrkFace|        TA|       TA|          926|        Ex|          Y|        2|        1|            3|            1|          Gd|            7|          2|        470|         TA|        0|     Sp|      6|   2010|   195500|\n",
            "|    7|       RL|          41|    4920|         Lvl|       Gtl|           8|      2001|          2001|        None|        Gd|       TA|         1338|        Ex|          Y|        2|        0|            2|            1|          Gd|            6|          2|        582|         TA|        0|     Sp|      4|   2010|   213500|\n",
            "|    8|       RL|          43|    5005|         HLS|       Gtl|           8|      1992|          1992|        None|        Gd|       TA|         1280|        Ex|          Y|        2|        0|            2|            1|          Gd|            5|          2|        506|         TA|        0|     Sp|      1|   2010|   191500|\n",
            "|    9|       RL|          39|    5389|         Lvl|       Gtl|           8|      1995|          1996|        None|        Gd|       TA|         1595|        Ex|          Y|        2|        0|            2|            1|          Gd|            5|          2|        608|         TA|        0|     Sp|      3|   2010|   236500|\n",
            "|   10|       RL|          60|    7500|         Lvl|       Gtl|           7|      1999|          1999|        None|        TA|       TA|          994|        Gd|          Y|        2|        1|            3|            1|          Gd|            7|          2|        442|         TA|        0|     Sp|      6|   2010|   189000|\n",
            "|   11|       RL|          75|   10000|         Lvl|       Gtl|           6|      1993|          1994|        None|        TA|       TA|          763|        Gd|          Y|        2|        1|            3|            1|          TA|            7|          2|        440|         TA|        0|     Sp|      4|   2010|   175900|\n",
            "|   12|       RL|        null|    7980|         Lvl|       Gtl|           6|      1992|          2007|        None|        TA|       TA|         1168|        Ex|          Y|        2|        0|            3|            1|          TA|            6|          2|        420|         TA|        0|     Sp|      3|   2010|   185000|\n",
            "|   13|       RL|          63|    8402|         Lvl|       Gtl|           6|      1998|          1998|        None|        TA|       TA|          789|        Gd|          Y|        2|        1|            3|            1|          TA|            7|          2|        393|         TA|        0|     Sp|      5|   2010|   180400|\n",
            "|   14|       RL|          85|   10176|         Lvl|       Gtl|           7|      1990|          1990|        None|        TA|       TA|         1300|        Gd|          Y|        1|        1|            2|            1|          Gd|            5|          2|        506|         TA|        0|     Sp|      2|   2010|   171500|\n",
            "|   15|       RL|        null|    6820|         Lvl|       Gtl|           8|      1985|          1985|        None|        Gd|       TA|         1488|        TA|          Y|        1|        1|            1|            1|          Gd|            4|          2|        528|         TA|        0|     Sp|      6|   2010|   212000|\n",
            "|   16|       RL|          47|   53504|         HLS|       Mod|           8|      2003|          2003|     BrkFace|        Ex|       TA|         1650|        Ex|          Y|        3|        1|            4|            1|          Ex|           12|          3|        841|         TA|        0|     Sp|      6|   2010|   538000|\n",
            "|   17|       RL|         152|   12134|         Bnk|       Mod|           8|      1988|          2005|        None|        Gd|       TA|          559|        Gd|          Y|        2|        0|            4|            1|          TA|            8|          2|        492|         TA|        0|     Sp|      6|   2010|   164000|\n",
            "|   18|       RL|          88|   11394|         Lvl|       Gtl|           9|      2010|          2010|       Stone|        Gd|       TA|         1856|        Ex|          Y|        1|        1|            1|            1|          Ex|            8|          3|        834|         TA|        0|     Sp|      6|   2010|   394432|\n",
            "|   19|       RL|         140|   19138|         Lvl|       Gtl|           4|      1951|          1951|        None|        TA|       TA|          864|        Ex|          Y|        1|        0|            2|            1|          TA|            4|          2|        400|         TA|        0|     Sp|      6|   2010|   141000|\n",
            "|   20|       RL|          85|   13175|         Lvl|       Gtl|           6|      1978|          1988|       Stone|        TA|       TA|         1542|        TA|          Y|        2|        0|            3|            1|          TA|            7|          2|        500|         TA|        0|     Sp|      2|   2010|   210000|\n",
            "+-----+---------+------------+--------+------------+----------+------------+----------+--------------+------------+----------+---------+-------------+----------+-----------+---------+---------+-------------+-------------+------------+-------------+-----------+-----------+-----------+---------+-------+-------+-------+---------+\n",
            "only showing top 20 rows\n",
            "\n"
          ],
          "name": "stdout"
        }
      ]
    },
    {
      "cell_type": "markdown",
      "metadata": {
        "id": "EUE1mqXH3Pag"
      },
      "source": [
        "Con la función `printSchema()` observamos la estructura de los datos, donde se observa el tipo que contiene cada variable"
      ]
    },
    {
      "cell_type": "code",
      "metadata": {
        "colab": {
          "base_uri": "https://localhost:8080/"
        },
        "id": "LkkhXW3bG_KA",
        "outputId": "a256c33d-922a-4c31-a59f-7515b633d872"
      },
      "source": [
        "# Observamos los datos con printSchema()\r\n",
        "raw_viviendas.printSchema()"
      ],
      "execution_count": 9,
      "outputs": [
        {
          "output_type": "stream",
          "text": [
            "root\n",
            " |-- Order: integer (nullable = true)\n",
            " |-- MS_Zoning: string (nullable = true)\n",
            " |-- Lot_Frontage: integer (nullable = true)\n",
            " |-- Lot_Area: integer (nullable = true)\n",
            " |-- Land_Contour: string (nullable = true)\n",
            " |-- Land_Slope: string (nullable = true)\n",
            " |-- Overall_Qual: integer (nullable = true)\n",
            " |-- Year_Built: integer (nullable = true)\n",
            " |-- Year_Remod/Add: integer (nullable = true)\n",
            " |-- Mas_Vnr_Type: string (nullable = true)\n",
            " |-- Exter_Qual: string (nullable = true)\n",
            " |-- Bsmt_Cond: string (nullable = true)\n",
            " |-- Total_Bsmt_SF: integer (nullable = true)\n",
            " |-- Heating_QC: string (nullable = true)\n",
            " |-- Central_Air: string (nullable = true)\n",
            " |-- Full_Bath: integer (nullable = true)\n",
            " |-- Half_Bath: integer (nullable = true)\n",
            " |-- Bedroom_AbvGr: integer (nullable = true)\n",
            " |-- Kitchen_AbvGr: integer (nullable = true)\n",
            " |-- Kitchen_Qual: string (nullable = true)\n",
            " |-- TotRms_AbvGrd: integer (nullable = true)\n",
            " |-- Garage_Cars: integer (nullable = true)\n",
            " |-- Garage_Area: integer (nullable = true)\n",
            " |-- Garage_Cond: string (nullable = true)\n",
            " |-- Pool_Area: integer (nullable = true)\n",
            " |-- Pool_QC: string (nullable = true)\n",
            " |-- Mo_Sold: integer (nullable = true)\n",
            " |-- Yr_Sold: integer (nullable = true)\n",
            " |-- SalePrice: integer (nullable = true)\n",
            "\n"
          ],
          "name": "stdout"
        }
      ]
    },
    {
      "cell_type": "markdown",
      "metadata": {
        "id": "YQtPXBl-oy6r"
      },
      "source": [
        "Lo siguiente sería filtrar la base de datos por las zonas residenciales, como viene especificado en el enunciado. No he logrado filtrarlas y he dejado los distintos problemas con los que me he encontrado al intentarlo.\r\n",
        "He intentado de dos maneras, con la opción de filter sobre la variable en cuestión y también con código sql. Ninguna ha sido fructuosa.\r\n",
        "\r\n",
        "Los dejo en el documento a modo de prueba de que no he pasado por alto este detalle. Sin embargo, tendré que trabajar de aquí en adelante con todo el grupo de datos"
      ]
    },
    {
      "cell_type": "code",
      "metadata": {
        "colab": {
          "base_uri": "https://localhost:8080/",
          "height": 183
        },
        "id": "aiIKvvUR_8Hl",
        "outputId": "b824cc89-af7e-46d4-9c2f-90afce77a73f"
      },
      "source": [
        "# Filtro varias veces en MS_Zoning...\r\n",
        "raw_viviendas.filter(raw_viviendas('MS_Zoning') == 'RL' | raw_viviendas('MS_Zoning') == 'RM' | raw_viviendas('MS_Zoning') == 'RH').collect()"
      ],
      "execution_count": 50,
      "outputs": [
        {
          "output_type": "error",
          "ename": "TypeError",
          "evalue": "ignored",
          "traceback": [
            "\u001b[0;31m---------------------------------------------------------------------------\u001b[0m",
            "\u001b[0;31mTypeError\u001b[0m                                 Traceback (most recent call last)",
            "\u001b[0;32m<ipython-input-50-04efae8874e2>\u001b[0m in \u001b[0;36m<module>\u001b[0;34m()\u001b[0m\n\u001b[0;32m----> 1\u001b[0;31m \u001b[0mraw_viviendas\u001b[0m\u001b[0;34m.\u001b[0m\u001b[0mfilter\u001b[0m\u001b[0;34m(\u001b[0m\u001b[0mraw_viviendas\u001b[0m\u001b[0;34m(\u001b[0m\u001b[0;34m'MS_Zoning'\u001b[0m\u001b[0;34m)\u001b[0m \u001b[0;34m==\u001b[0m \u001b[0;34m'RL'\u001b[0m \u001b[0;34m|\u001b[0m \u001b[0mraw_viviendas\u001b[0m\u001b[0;34m(\u001b[0m\u001b[0;34m'MS_Zoning'\u001b[0m\u001b[0;34m)\u001b[0m \u001b[0;34m==\u001b[0m \u001b[0;34m'RM'\u001b[0m \u001b[0;34m|\u001b[0m \u001b[0mraw_viviendas\u001b[0m\u001b[0;34m(\u001b[0m\u001b[0;34m'MS_Zoning'\u001b[0m\u001b[0;34m)\u001b[0m \u001b[0;34m==\u001b[0m \u001b[0;34m'RH'\u001b[0m\u001b[0;34m)\u001b[0m\u001b[0;34m.\u001b[0m\u001b[0mcollect\u001b[0m\u001b[0;34m(\u001b[0m\u001b[0;34m)\u001b[0m\u001b[0;34m\u001b[0m\u001b[0;34m\u001b[0m\u001b[0m\n\u001b[0m",
            "\u001b[0;31mTypeError\u001b[0m: 'DataFrame' object is not callable"
          ]
        }
      ]
    },
    {
      "cell_type": "code",
      "metadata": {
        "id": "41DpQz81HEd9"
      },
      "source": [
        "# Segundo intento, para poder trabajar con sql dentro de spark, pasamos a formato tabla el df de raw_viviendas\r\n",
        "raw_viviendas.registerTempTable(\"viviendas\")"
      ],
      "execution_count": 33,
      "outputs": []
    },
    {
      "cell_type": "code",
      "metadata": {
        "colab": {
          "base_uri": "https://localhost:8080/"
        },
        "id": "eYonTCUO6TGB",
        "outputId": "b4237829-82f6-4b89-b376-21e7bbf6938e"
      },
      "source": [
        "# Creamos un objeto con la entrada de sql\r\n",
        "residencias = spark.sql(\"\"\"\r\n",
        "    SELECT * \r\n",
        "    FROM viviendas \r\n",
        "    WHERE MS_Zoning == 'RL' or MS_Zoning == 'RM' or MS_Zoning == 'RH'\r\n",
        "\"\"\").show()"
      ],
      "execution_count": 51,
      "outputs": [
        {
          "output_type": "stream",
          "text": [
            "+-----+---------+------------+--------+------------+----------+------------+----------+--------------+------------+----------+---------+-------------+----------+-----------+---------+---------+-------------+-------------+------------+-------------+-----------+-----------+-----------+---------+-------+-------+-------+---------+\n",
            "|Order|MS_Zoning|Lot_Frontage|Lot_Area|Land_Contour|Land_Slope|Overall_Qual|Year_Built|Year_Remod/Add|Mas_Vnr_Type|Exter_Qual|Bsmt_Cond|Total_Bsmt_SF|Heating_QC|Central_Air|Full_Bath|Half_Bath|Bedroom_AbvGr|Kitchen_AbvGr|Kitchen_Qual|TotRms_AbvGrd|Garage_Cars|Garage_Area|Garage_Cond|Pool_Area|Pool_QC|Mo_Sold|Yr_Sold|SalePrice|\n",
            "+-----+---------+------------+--------+------------+----------+------------+----------+--------------+------------+----------+---------+-------------+----------+-----------+---------+---------+-------------+-------------+------------+-------------+-----------+-----------+-----------+---------+-------+-------+-------+---------+\n",
            "|    1|       RL|         141|   31770|         Lvl|       Gtl|           6|      1960|          1960|       Stone|        TA|       Gd|         1080|        Fa|          Y|        1|        0|            3|            1|          TA|            7|          2|        528|         TA|        0|     Sp|      5|   2010|   215000|\n",
            "|    2|       RH|          80|   11622|         Lvl|       Gtl|           5|      1961|          1961|        None|        TA|       TA|          882|        TA|          Y|        1|        0|            2|            1|          TA|            5|          1|        730|         TA|        0|     Sp|      6|   2010|   105000|\n",
            "|    3|       RL|          81|   14267|         Lvl|       Gtl|           6|      1958|          1958|     BrkFace|        TA|       TA|         1329|        TA|          Y|        1|        1|            3|            1|          Gd|            6|          1|        312|         TA|        0|     Sp|      6|   2010|   172000|\n",
            "|    4|       RL|          93|   11160|         Lvl|       Gtl|           7|      1968|          1968|        None|        Gd|       TA|         2110|        Ex|          Y|        2|        1|            3|            1|          Ex|            8|          2|        522|         TA|        0|     Sp|      4|   2010|   244000|\n",
            "|    5|       RL|          74|   13830|         Lvl|       Gtl|           5|      1997|          1998|        None|        TA|       TA|          928|        Gd|          Y|        2|        1|            3|            1|          TA|            6|          2|        482|         TA|        0|     Sp|      3|   2010|   189900|\n",
            "|    6|       RL|          78|    9978|         Lvl|       Gtl|           6|      1998|          1998|     BrkFace|        TA|       TA|          926|        Ex|          Y|        2|        1|            3|            1|          Gd|            7|          2|        470|         TA|        0|     Sp|      6|   2010|   195500|\n",
            "|    7|       RL|          41|    4920|         Lvl|       Gtl|           8|      2001|          2001|        None|        Gd|       TA|         1338|        Ex|          Y|        2|        0|            2|            1|          Gd|            6|          2|        582|         TA|        0|     Sp|      4|   2010|   213500|\n",
            "|    8|       RL|          43|    5005|         HLS|       Gtl|           8|      1992|          1992|        None|        Gd|       TA|         1280|        Ex|          Y|        2|        0|            2|            1|          Gd|            5|          2|        506|         TA|        0|     Sp|      1|   2010|   191500|\n",
            "|    9|       RL|          39|    5389|         Lvl|       Gtl|           8|      1995|          1996|        None|        Gd|       TA|         1595|        Ex|          Y|        2|        0|            2|            1|          Gd|            5|          2|        608|         TA|        0|     Sp|      3|   2010|   236500|\n",
            "|   10|       RL|          60|    7500|         Lvl|       Gtl|           7|      1999|          1999|        None|        TA|       TA|          994|        Gd|          Y|        2|        1|            3|            1|          Gd|            7|          2|        442|         TA|        0|     Sp|      6|   2010|   189000|\n",
            "|   11|       RL|          75|   10000|         Lvl|       Gtl|           6|      1993|          1994|        None|        TA|       TA|          763|        Gd|          Y|        2|        1|            3|            1|          TA|            7|          2|        440|         TA|        0|     Sp|      4|   2010|   175900|\n",
            "|   12|       RL|        null|    7980|         Lvl|       Gtl|           6|      1992|          2007|        None|        TA|       TA|         1168|        Ex|          Y|        2|        0|            3|            1|          TA|            6|          2|        420|         TA|        0|     Sp|      3|   2010|   185000|\n",
            "|   13|       RL|          63|    8402|         Lvl|       Gtl|           6|      1998|          1998|        None|        TA|       TA|          789|        Gd|          Y|        2|        1|            3|            1|          TA|            7|          2|        393|         TA|        0|     Sp|      5|   2010|   180400|\n",
            "|   14|       RL|          85|   10176|         Lvl|       Gtl|           7|      1990|          1990|        None|        TA|       TA|         1300|        Gd|          Y|        1|        1|            2|            1|          Gd|            5|          2|        506|         TA|        0|     Sp|      2|   2010|   171500|\n",
            "|   15|       RL|        null|    6820|         Lvl|       Gtl|           8|      1985|          1985|        None|        Gd|       TA|         1488|        TA|          Y|        1|        1|            1|            1|          Gd|            4|          2|        528|         TA|        0|     Sp|      6|   2010|   212000|\n",
            "|   16|       RL|          47|   53504|         HLS|       Mod|           8|      2003|          2003|     BrkFace|        Ex|       TA|         1650|        Ex|          Y|        3|        1|            4|            1|          Ex|           12|          3|        841|         TA|        0|     Sp|      6|   2010|   538000|\n",
            "|   17|       RL|         152|   12134|         Bnk|       Mod|           8|      1988|          2005|        None|        Gd|       TA|          559|        Gd|          Y|        2|        0|            4|            1|          TA|            8|          2|        492|         TA|        0|     Sp|      6|   2010|   164000|\n",
            "|   18|       RL|          88|   11394|         Lvl|       Gtl|           9|      2010|          2010|       Stone|        Gd|       TA|         1856|        Ex|          Y|        1|        1|            1|            1|          Ex|            8|          3|        834|         TA|        0|     Sp|      6|   2010|   394432|\n",
            "|   19|       RL|         140|   19138|         Lvl|       Gtl|           4|      1951|          1951|        None|        TA|       TA|          864|        Ex|          Y|        1|        0|            2|            1|          TA|            4|          2|        400|         TA|        0|     Sp|      6|   2010|   141000|\n",
            "|   20|       RL|          85|   13175|         Lvl|       Gtl|           6|      1978|          1988|       Stone|        TA|       TA|         1542|        TA|          Y|        2|        0|            3|            1|          TA|            7|          2|        500|         TA|        0|     Sp|      2|   2010|   210000|\n",
            "+-----+---------+------------+--------+------------+----------+------------+----------+--------------+------------+----------+---------+-------------+----------+-----------+---------+---------+-------------+-------------+------------+-------------+-----------+-----------+-----------+---------+-------+-------+-------+---------+\n",
            "only showing top 20 rows\n",
            "\n"
          ],
          "name": "stdout"
        }
      ]
    },
    {
      "cell_type": "code",
      "metadata": {
        "colab": {
          "base_uri": "https://localhost:8080/",
          "height": 183
        },
        "id": "PVat7NszrBGu",
        "outputId": "5f6c4bea-19a5-4e6d-9eb4-38ebfc381329"
      },
      "source": [
        "# Compruebo el objeto creado. El tipo del objeto es 'NoneType'\r\n",
        "residencias.show()"
      ],
      "execution_count": 113,
      "outputs": [
        {
          "output_type": "error",
          "ename": "AttributeError",
          "evalue": "ignored",
          "traceback": [
            "\u001b[0;31m---------------------------------------------------------------------------\u001b[0m",
            "\u001b[0;31mAttributeError\u001b[0m                            Traceback (most recent call last)",
            "\u001b[0;32m<ipython-input-113-8308ea47b645>\u001b[0m in \u001b[0;36m<module>\u001b[0;34m()\u001b[0m\n\u001b[1;32m      1\u001b[0m \u001b[0;31m# Compruebo\u001b[0m\u001b[0;34m\u001b[0m\u001b[0;34m\u001b[0m\u001b[0;34m\u001b[0m\u001b[0m\n\u001b[0;32m----> 2\u001b[0;31m \u001b[0mresidencias\u001b[0m\u001b[0;34m.\u001b[0m\u001b[0mshow\u001b[0m\u001b[0;34m(\u001b[0m\u001b[0;34m)\u001b[0m\u001b[0;34m\u001b[0m\u001b[0;34m\u001b[0m\u001b[0m\n\u001b[0m",
            "\u001b[0;31mAttributeError\u001b[0m: 'NoneType' object has no attribute 'show'"
          ]
        }
      ]
    },
    {
      "cell_type": "code",
      "metadata": {
        "colab": {
          "base_uri": "https://localhost:8080/",
          "height": 339
        },
        "id": "qw-I4q39-178",
        "outputId": "be40f378-6ef7-4bb8-e17e-635296f8fc4a"
      },
      "source": [
        "# Trato de pasar el objeto a dataframe para poder trabajar con ello, pero este tipo de objeto\r\n",
        "# no permite iteraciones...\r\n",
        "spark.createDataFrame(residencias)\r\n",
        "\r\n"
      ],
      "execution_count": 114,
      "outputs": [
        {
          "output_type": "error",
          "ename": "TypeError",
          "evalue": "ignored",
          "traceback": [
            "\u001b[0;31m---------------------------------------------------------------------------\u001b[0m",
            "\u001b[0;31mTypeError\u001b[0m                                 Traceback (most recent call last)",
            "\u001b[0;32m<ipython-input-114-264735e82c44>\u001b[0m in \u001b[0;36m<module>\u001b[0;34m()\u001b[0m\n\u001b[1;32m      1\u001b[0m \u001b[0;31m# Trato de pasar el objeto a dataframe para poder trabajar con ello, pero este tipo\u001b[0m\u001b[0;34m\u001b[0m\u001b[0;34m\u001b[0m\u001b[0;34m\u001b[0m\u001b[0m\n\u001b[0;32m----> 2\u001b[0;31m \u001b[0mspark\u001b[0m\u001b[0;34m.\u001b[0m\u001b[0mcreateDataFrame\u001b[0m\u001b[0;34m(\u001b[0m\u001b[0mresidencias\u001b[0m\u001b[0;34m)\u001b[0m\u001b[0;34m\u001b[0m\u001b[0;34m\u001b[0m\u001b[0m\n\u001b[0m\u001b[1;32m      3\u001b[0m \u001b[0;34m\u001b[0m\u001b[0m\n",
            "\u001b[0;32m/content/spark-2.4.7-bin-hadoop2.7/python/pyspark/sql/session.py\u001b[0m in \u001b[0;36mcreateDataFrame\u001b[0;34m(self, data, schema, samplingRatio, verifySchema)\u001b[0m\n\u001b[1;32m    746\u001b[0m             \u001b[0mrdd\u001b[0m\u001b[0;34m,\u001b[0m \u001b[0mschema\u001b[0m \u001b[0;34m=\u001b[0m \u001b[0mself\u001b[0m\u001b[0;34m.\u001b[0m\u001b[0m_createFromRDD\u001b[0m\u001b[0;34m(\u001b[0m\u001b[0mdata\u001b[0m\u001b[0;34m.\u001b[0m\u001b[0mmap\u001b[0m\u001b[0;34m(\u001b[0m\u001b[0mprepare\u001b[0m\u001b[0;34m)\u001b[0m\u001b[0;34m,\u001b[0m \u001b[0mschema\u001b[0m\u001b[0;34m,\u001b[0m \u001b[0msamplingRatio\u001b[0m\u001b[0;34m)\u001b[0m\u001b[0;34m\u001b[0m\u001b[0;34m\u001b[0m\u001b[0m\n\u001b[1;32m    747\u001b[0m         \u001b[0;32melse\u001b[0m\u001b[0;34m:\u001b[0m\u001b[0;34m\u001b[0m\u001b[0;34m\u001b[0m\u001b[0m\n\u001b[0;32m--> 748\u001b[0;31m             \u001b[0mrdd\u001b[0m\u001b[0;34m,\u001b[0m \u001b[0mschema\u001b[0m \u001b[0;34m=\u001b[0m \u001b[0mself\u001b[0m\u001b[0;34m.\u001b[0m\u001b[0m_createFromLocal\u001b[0m\u001b[0;34m(\u001b[0m\u001b[0mmap\u001b[0m\u001b[0;34m(\u001b[0m\u001b[0mprepare\u001b[0m\u001b[0;34m,\u001b[0m \u001b[0mdata\u001b[0m\u001b[0;34m)\u001b[0m\u001b[0;34m,\u001b[0m \u001b[0mschema\u001b[0m\u001b[0;34m)\u001b[0m\u001b[0;34m\u001b[0m\u001b[0;34m\u001b[0m\u001b[0m\n\u001b[0m\u001b[1;32m    749\u001b[0m         \u001b[0mjrdd\u001b[0m \u001b[0;34m=\u001b[0m \u001b[0mself\u001b[0m\u001b[0;34m.\u001b[0m\u001b[0m_jvm\u001b[0m\u001b[0;34m.\u001b[0m\u001b[0mSerDeUtil\u001b[0m\u001b[0;34m.\u001b[0m\u001b[0mtoJavaArray\u001b[0m\u001b[0;34m(\u001b[0m\u001b[0mrdd\u001b[0m\u001b[0;34m.\u001b[0m\u001b[0m_to_java_object_rdd\u001b[0m\u001b[0;34m(\u001b[0m\u001b[0;34m)\u001b[0m\u001b[0;34m)\u001b[0m\u001b[0;34m\u001b[0m\u001b[0;34m\u001b[0m\u001b[0m\n\u001b[1;32m    750\u001b[0m         \u001b[0mjdf\u001b[0m \u001b[0;34m=\u001b[0m \u001b[0mself\u001b[0m\u001b[0;34m.\u001b[0m\u001b[0m_jsparkSession\u001b[0m\u001b[0;34m.\u001b[0m\u001b[0mapplySchemaToPythonRDD\u001b[0m\u001b[0;34m(\u001b[0m\u001b[0mjrdd\u001b[0m\u001b[0;34m.\u001b[0m\u001b[0mrdd\u001b[0m\u001b[0;34m(\u001b[0m\u001b[0;34m)\u001b[0m\u001b[0;34m,\u001b[0m \u001b[0mschema\u001b[0m\u001b[0;34m.\u001b[0m\u001b[0mjson\u001b[0m\u001b[0;34m(\u001b[0m\u001b[0;34m)\u001b[0m\u001b[0;34m)\u001b[0m\u001b[0;34m\u001b[0m\u001b[0;34m\u001b[0m\u001b[0m\n",
            "\u001b[0;31mTypeError\u001b[0m: 'NoneType' object is not iterable"
          ]
        }
      ]
    },
    {
      "cell_type": "markdown",
      "metadata": {
        "id": "5hkjITnY5Ip-"
      },
      "source": [
        "## Cuántas viviendas distintas encontramos en el dataset? ¿Se repite alguna? Tiene sentido que haya duplicadas? ¿Qué podemos hacer con las duplicadas?"
      ]
    },
    {
      "cell_type": "markdown",
      "metadata": {
        "id": "ujHSgXyU2nrE"
      },
      "source": [
        "Para conocer el número de viviendas distintas que hay en el dataset, utilizamos la función distinct sobre la columna de Order. Aquí vemos que hay 2930 entradas únicas de `Order`. En el count() realizado anteriormente, se obtenían 2936, por lo que habría 6 viviendas que estarían repetidas. La duplicidad se podría deber a que hay registros que pertenecen al mismo bloque de viviendas, y tiene el mismo identificador, pero corresponda a casas distintas, es por ello que he decidido dejar los duplicados en este caso"
      ]
    },
    {
      "cell_type": "code",
      "metadata": {
        "colab": {
          "base_uri": "https://localhost:8080/"
        },
        "id": "X6rvJE1s0eY9",
        "outputId": "b5964f4f-569b-4edf-ffb0-8648e9c735c9"
      },
      "source": [
        "raw_viviendas.select(\"Order\").distinct().count()"
      ],
      "execution_count": 57,
      "outputs": [
        {
          "output_type": "execute_result",
          "data": {
            "text/plain": [
              "2930"
            ]
          },
          "metadata": {
            "tags": []
          },
          "execution_count": 57
        }
      ]
    },
    {
      "cell_type": "markdown",
      "metadata": {
        "id": "B8eIB0n45Ip-"
      },
      "source": [
        "## ¿Podrías decirme el total de inmuebles y el precio medio (Sale Price) de cada zona (MS Zoning)?"
      ]
    },
    {
      "cell_type": "markdown",
      "metadata": {
        "id": "qhoaUp3tr7QX"
      },
      "source": [
        "Como no he podido filtrar, obtengo el precio medio de todas las zonas, agrupando por la variable `MS_Zoning`, y calculando la media de `SalePrice`"
      ]
    },
    {
      "cell_type": "code",
      "metadata": {
        "colab": {
          "base_uri": "https://localhost:8080/"
        },
        "id": "M--_QoTvO51_",
        "outputId": "480bf854-92bd-4e13-83e4-de9fa5f894d8"
      },
      "source": [
        "# groupby() sobre la zona y luego calculo la media del precio con avg\r\n",
        "raw_viviendas.groupBy(\"MS_Zoning\")\\\r\n",
        "    .agg(avg(\"SalePrice\"))\\\r\n",
        "    .show()"
      ],
      "execution_count": 115,
      "outputs": [
        {
          "output_type": "stream",
          "text": [
            "+---------+------------------+\n",
            "|MS_Zoning|    avg(SalePrice)|\n",
            "+---------+------------------+\n",
            "|       RH|136419.77777777778|\n",
            "|       FV|218986.94964028776|\n",
            "|        C|          79795.04|\n",
            "|        A|           47300.0|\n",
            "|       Rl|254833.33333333334|\n",
            "|       RL|191131.80581241744|\n",
            "|       rL|          320000.0|\n",
            "|        I|           80312.5|\n",
            "|       RM|126781.39393939394|\n",
            "+---------+------------------+\n",
            "\n"
          ],
          "name": "stdout"
        }
      ]
    },
    {
      "cell_type": "markdown",
      "metadata": {
        "id": "_5mc0LFC5Ip_"
      },
      "source": [
        "## Media de Total Bsmt SF por cada década de construcción calculada a partir de Year Built. \n",
        "## ¿Cuál es la decada de construcción con viviendas mejor acondicionadas para el frío (Heating QC)?"
      ]
    },
    {
      "cell_type": "markdown",
      "metadata": {
        "id": "U_ZwjQKrssaK"
      },
      "source": [
        "En esta ocasión, no he podido encontrar la manera de calcular las décadas a partir de Year Built. Sin embargo, he obtenido la media de superficie del sotano para cada año, de nuevo utilizando groupby() y avg().\r\n",
        "Se puede intuir que en la segunda década contemplada, la superficie del sótano en las nuevas construcciones, subió, en general."
      ]
    },
    {
      "cell_type": "code",
      "metadata": {
        "colab": {
          "base_uri": "https://localhost:8080/"
        },
        "id": "_tZRDvt2QEAO",
        "outputId": "d7ce9db1-2cf1-4c25-a48f-c88e8df97e29"
      },
      "source": [
        "raw_viviendas.select(\"Year_Built\", \"Total_Bsmt_SF\")\\\r\n",
        "  .groupby(\"Year_Built\")\\\r\n",
        "  .agg(avg(\"Total_Bsmt_SF\")) \\\r\n",
        "  .sort(desc(\"Year_Built\")) \\ # ordenamos de mayor a menor por año\r\n",
        "  .show()"
      ],
      "execution_count": 109,
      "outputs": [
        {
          "output_type": "stream",
          "text": [
            "+----------+------------------+\n",
            "|Year_Built|avg(Total_Bsmt_SF)|\n",
            "+----------+------------------+\n",
            "|      2010|1573.3333333333333|\n",
            "|      2009|           1305.76|\n",
            "|      2008|1791.5510204081634|\n",
            "|      2007| 1436.605504587156|\n",
            "|      2006|1377.7246376811595|\n",
            "|      2005|1249.3426573426573|\n",
            "|      2004|1183.7373737373737|\n",
            "|      2003|1206.2954545454545|\n",
            "|      2002|1249.8541666666667|\n",
            "|      2001|1293.0285714285715|\n",
            "|      2000|1070.0204081632653|\n",
            "|      1999|1025.0384615384614|\n",
            "|      1998| 1139.340425531915|\n",
            "|      1997|1083.9142857142858|\n",
            "|      1996|1116.1764705882354|\n",
            "|      1995|1200.8709677419354|\n",
            "|      1994| 1172.945945945946|\n",
            "|      1993|1091.9756097560976|\n",
            "|      1992| 1145.148148148148|\n",
            "|      1991|1116.3333333333333|\n",
            "+----------+------------------+\n",
            "only showing top 20 rows\n",
            "\n"
          ],
          "name": "stdout"
        }
      ]
    },
    {
      "cell_type": "markdown",
      "metadata": {
        "id": "RrVM9op25Ip_"
      },
      "source": [
        "## ¿Cuáles son las 10 viviendas que se vendieron por un precio más elevado por metro cuadrado en el año 2009?"
      ]
    },
    {
      "cell_type": "markdown",
      "metadata": {
        "id": "hsDySwSXt2nx"
      },
      "source": [
        "Para obtener las 10 viviendas más caras en el año 2009, he filtrado por este año, y sencillamente ordeno por orden de mayor a menor en Sale Price. Además, se puede selleccionar la superficie del inmueble, aunque aquí está medido en pies cuadrados. Podemos comprobar que la casa más cara de 2009 no era de las más grandes de entre las 10 más caras."
      ]
    },
    {
      "cell_type": "code",
      "metadata": {
        "colab": {
          "base_uri": "https://localhost:8080/"
        },
        "id": "fJMExLMwQMhL",
        "outputId": "93468cdc-9b78-45ad-8e6f-bc9376fc0214"
      },
      "source": [
        "raw_viviendas.select(\"Yr_Sold\", \"SalePrice\", \"Lot_Area\")\\\r\n",
        "  .filter(raw_viviendas.Yr_Sold == '2009')\\  # filtro por 2009\r\n",
        "  .sort(desc(\"SalePrice\"))\\  # ordenamos de mayor a menor precio de venta\r\n",
        "  .show(10) # Mostramos solo los 10 primeros"
      ],
      "execution_count": 73,
      "outputs": [
        {
          "output_type": "stream",
          "text": [
            "+-------+---------+--------+\n",
            "|Yr_Sold|SalePrice|Lot_Area|\n",
            "+-------+---------+--------+\n",
            "|   2009|   610000|   13693|\n",
            "|   2009|   582933|   13891|\n",
            "|   2009|   555000|   15431|\n",
            "|   2009|   552000|   14836|\n",
            "|   2009|   501837|   17423|\n",
            "|   2009|   485000|   13518|\n",
            "|   2009|   468000|   11128|\n",
            "|   2009|   462000|   14257|\n",
            "|   2009|   451950|   13478|\n",
            "|   2009|   445000|   15274|\n",
            "+-------+---------+--------+\n",
            "only showing top 10 rows\n",
            "\n"
          ],
          "name": "stdout"
        }
      ]
    },
    {
      "cell_type": "markdown",
      "metadata": {
        "id": "OHlRIsBj5Ip_"
      },
      "source": [
        "## Media anual por zonas del precio de venta y metros cuadrados."
      ]
    },
    {
      "cell_type": "markdown",
      "metadata": {
        "id": "_PFb-A7Guuoh"
      },
      "source": [
        "Aquí he realizado una agrupación por zonas, variable `MS_Zoning`, y se calcula directamente la media del precio de venta y la superficie (calculada en pies cuadrados ya que no he sabido transformar la variable)"
      ]
    },
    {
      "cell_type": "code",
      "metadata": {
        "colab": {
          "base_uri": "https://localhost:8080/"
        },
        "id": "CVz3zEzjRdq-",
        "outputId": "152e2a08-552f-48dc-9602-7c58f7fe2bb7"
      },
      "source": [
        "raw_viviendas.select(\"MS_Zoning\", \"SalePrice\", \"Lot_Area\")\\\r\n",
        "    .groupby(\"MS_Zoning\")\\ # agrupacion por zonas\r\n",
        "    .agg(avg(\"SalePrice\"), avg(\"Lot_Area\"))\\ # calculos sobre precio de venta y superficie\r\n",
        "    .show()"
      ],
      "execution_count": 75,
      "outputs": [
        {
          "output_type": "stream",
          "text": [
            "+---------+------------------+------------------+\n",
            "|MS_Zoning|    avg(SalePrice)|     avg(Lot_Area)|\n",
            "+---------+------------------+------------------+\n",
            "|       RH|136419.77777777778| 7362.222222222223|\n",
            "|       FV|218986.94964028776| 6549.359712230216|\n",
            "|        C|          79795.04|           8320.72|\n",
            "|        A|           47300.0|           22917.0|\n",
            "|       Rl|254833.33333333334|11199.666666666666|\n",
            "|       RL|191131.80581241744|11141.499779832673|\n",
            "|       rL|          320000.0|           13618.0|\n",
            "|        I|           80312.5|           39190.0|\n",
            "|       RM|126781.39393939394| 6411.497835497836|\n",
            "+---------+------------------+------------------+\n",
            "\n"
          ],
          "name": "stdout"
        }
      ]
    },
    {
      "cell_type": "markdown",
      "metadata": {
        "id": "a3dnCHEP5Ip_"
      },
      "source": [
        "## ¿Podrías decirme el total de recaudación de las casas de revistimiento (Mas Vnr Type) de piedra con respecto a las de ladrillo? ¿Hay diferencia significativa?"
      ]
    },
    {
      "cell_type": "markdown",
      "metadata": {
        "id": "F30YB5KEv3Nu"
      },
      "source": [
        "Hay dos tipos de ladrillo. Realizo un distinct para conocer cómo vienen especificados los valores posibles de Mas Vnr Type"
      ]
    },
    {
      "cell_type": "code",
      "metadata": {
        "colab": {
          "base_uri": "https://localhost:8080/"
        },
        "id": "FtlTV_rAX-TD",
        "outputId": "87eb549d-ee55-4d5e-cecb-11226ff8dcb0"
      },
      "source": [
        "raw_viviendas.select(\"Mas_Vnr_Type\").distinct().show()"
      ],
      "execution_count": 92,
      "outputs": [
        {
          "output_type": "stream",
          "text": [
            "+------------+\n",
            "|Mas_Vnr_Type|\n",
            "+------------+\n",
            "|        None|\n",
            "|      BrkCmn|\n",
            "|        null|\n",
            "|       Stone|\n",
            "|     BrkFace|\n",
            "|      CBlock|\n",
            "+------------+\n",
            "\n"
          ],
          "name": "stdout"
        }
      ]
    },
    {
      "cell_type": "markdown",
      "metadata": {
        "id": "ZWvoS9eBv_4O"
      },
      "source": [
        "Acto seguido, calcula el total de la recaudación de cada tipo de material, sumando los precios de venta. Para ello, filtro tres veces, y calculo el total en cada caso"
      ]
    },
    {
      "cell_type": "code",
      "metadata": {
        "colab": {
          "base_uri": "https://localhost:8080/"
        },
        "id": "ZauzI1yHVVlR",
        "outputId": "f66b8485-def8-4bea-d636-e75affefa93d"
      },
      "source": [
        "raw_viviendas.select(\"Mas_Vnr_Type\", \"SalePrice\")\\\r\n",
        "    .filter(raw_viviendas.Mas_Vnr_Type == 'BrkCmn')\\\r\n",
        "    .agg(sum(\"SalePrice\"))\\\r\n",
        "    .show()"
      ],
      "execution_count": 116,
      "outputs": [
        {
          "output_type": "stream",
          "text": [
            "+--------------+\n",
            "|sum(SalePrice)|\n",
            "+--------------+\n",
            "|       3504975|\n",
            "+--------------+\n",
            "\n"
          ],
          "name": "stdout"
        }
      ]
    },
    {
      "cell_type": "code",
      "metadata": {
        "colab": {
          "base_uri": "https://localhost:8080/"
        },
        "id": "Ig85maSYXylu",
        "outputId": "25f56c3c-cf0e-46e0-925a-909906c7b95e"
      },
      "source": [
        "raw_viviendas.select(\"Mas_Vnr_Type\", \"SalePrice\")\\\r\n",
        "    .filter(raw_viviendas.Mas_Vnr_Type == 'BrkFace')\\\r\n",
        "    .agg(sum(\"SalePrice\"))\\\r\n",
        "    .show()"
      ],
      "execution_count": 88,
      "outputs": [
        {
          "output_type": "stream",
          "text": [
            "+--------------+\n",
            "|sum(SalePrice)|\n",
            "+--------------+\n",
            "|     186003261|\n",
            "+--------------+\n",
            "\n"
          ],
          "name": "stdout"
        }
      ]
    },
    {
      "cell_type": "code",
      "metadata": {
        "colab": {
          "base_uri": "https://localhost:8080/"
        },
        "id": "CKaT4Z7YX3pd",
        "outputId": "171e0c54-c476-4360-9964-48c92e43f6fd"
      },
      "source": [
        "raw_viviendas.select(\"Mas_Vnr_Type\", \"SalePrice\")\\\r\n",
        "    .filter(raw_viviendas.Mas_Vnr_Type == 'Stone')\\\r\n",
        "    .agg(sum(\"SalePrice\"))\\\r\n",
        "    .show()"
      ],
      "execution_count": 89,
      "outputs": [
        {
          "output_type": "stream",
          "text": [
            "+--------------+\n",
            "|sum(SalePrice)|\n",
            "+--------------+\n",
            "|      65196277|\n",
            "+--------------+\n",
            "\n"
          ],
          "name": "stdout"
        }
      ]
    },
    {
      "cell_type": "markdown",
      "metadata": {
        "id": "kqF7oknpwRAs"
      },
      "source": [
        "El ladrillo tiene una recaudación bastante más significativa que la piedra, ya que tiene aproximadamente 100 millones más en ganancias"
      ]
    },
    {
      "cell_type": "markdown",
      "metadata": {
        "id": "8sVCegWc5IqA"
      },
      "source": [
        "## ¿Cuánto son más caras las viviendas con 2 cocinas, con 2 o más plazas de garaje que las que tienen 1 cocina y 1 plaza de garaje? Comparar medias y cuartiles de ambos casos"
      ]
    },
    {
      "cell_type": "markdown",
      "metadata": {
        "id": "6CId0y9vw83F"
      },
      "source": [
        "Para obtenerlo, he hecho dos filtros, uno por caso, y en cada uno de ellos, he obtenido la media de los precios con avg.\r\n",
        "En esta ocasión he empleado código sql ya que me resultaba más sencillo."
      ]
    },
    {
      "cell_type": "code",
      "metadata": {
        "colab": {
          "base_uri": "https://localhost:8080/"
        },
        "id": "HhY-uoGXYWqK",
        "outputId": "b2b40a98-cdd9-44a7-e5b3-0989514d309c"
      },
      "source": [
        "spark.sql(\"\"\"\r\n",
        "SELECT avg(SalePrice)\r\n",
        "from viviendas\r\n",
        "where Garage_Cars >= 2 and Kitchen_AbvGr = 2\r\n",
        "\"\"\").show()"
      ],
      "execution_count": 96,
      "outputs": [
        {
          "output_type": "stream",
          "text": [
            "+-----------------+\n",
            "|   avg(SalePrice)|\n",
            "+-----------------+\n",
            "|144995.2643678161|\n",
            "+-----------------+\n",
            "\n"
          ],
          "name": "stdout"
        }
      ]
    },
    {
      "cell_type": "code",
      "metadata": {
        "colab": {
          "base_uri": "https://localhost:8080/"
        },
        "id": "GZBgDkoujIyD",
        "outputId": "5a93f880-8022-450a-b0e2-8358cfe86e6e"
      },
      "source": [
        "spark.sql(\"\"\"\r\n",
        "SELECT avg(SalePrice)\r\n",
        "from viviendas\r\n",
        "where Garage_Cars = 1 and Kitchen_AbvGr = 1\r\n",
        "\"\"\").show()"
      ],
      "execution_count": 97,
      "outputs": [
        {
          "output_type": "stream",
          "text": [
            "+------------------+\n",
            "|    avg(SalePrice)|\n",
            "+------------------+\n",
            "|127367.04161248375|\n",
            "+------------------+\n",
            "\n"
          ],
          "name": "stdout"
        }
      ]
    },
    {
      "cell_type": "markdown",
      "metadata": {
        "id": "dtv-2JFIxYtb"
      },
      "source": [
        "Tenemos que las casas con 2 cocinas y más de 1 garaje son en media más caras que las que únicamente tienen una de cada, lo cual tiene sentido."
      ]
    },
    {
      "cell_type": "markdown",
      "metadata": {
        "id": "6W11nyAD5IqA"
      },
      "source": [
        "## (COMPLEMENTARIA) Estudiar la relación entre el precio y el número de Garajes. (Recomiendo segmentar precio por cuartiles y estudiar el número de casos coincidentes)"
      ]
    },
    {
      "cell_type": "markdown",
      "metadata": {
        "id": "e-c5NuY5xn6z"
      },
      "source": [
        "Para obtener la relación entre ambas, he decidido primero obtener la media de precio por número de garajes, y representar esta relación con un gráfico de barras. Me he apoyado en este caso de pandas para hacer la representación. De esta manera, se podrá visualizar cómo cambia el precio según lo hace el número de garajes disponible.\r\n",
        "\r\n",
        "Es preciso, sin embargo, obviar la fila de nulls, dado que no nos aporta información. No he podido eliminarla con código"
      ]
    },
    {
      "cell_type": "code",
      "metadata": {
        "colab": {
          "base_uri": "https://localhost:8080/"
        },
        "id": "3xMv90oojkim",
        "outputId": "93a07d91-4c21-41cd-ccdf-5ae5fd288ca5"
      },
      "source": [
        "# Obtenemos primero la tabla con las medias para cada garaje\r\n",
        "num_garajes = raw_viviendas.select(\"SalePrice\", \"Garage_Cars\")\\ # seleccionamos ambas variables\r\n",
        "    .groupBy(\"Garage_Cars\")\\\r\n",
        "    .agg(avg(\"SalePrice\"))\r\n",
        "\r\n",
        "\r\n",
        "num_garajes.show()"
      ],
      "execution_count": 102,
      "outputs": [
        {
          "output_type": "stream",
          "text": [
            "+-----------+------------------+\n",
            "|Garage_Cars|    avg(SalePrice)|\n",
            "+-----------+------------------+\n",
            "|       null|          150909.0|\n",
            "|          1|127267.42287917738|\n",
            "|          3|310011.74801061006|\n",
            "|          5|          126500.0|\n",
            "|          4|       228748.6875|\n",
            "|          2|183606.50747198006|\n",
            "|          0|104949.25477707006|\n",
            "+-----------+------------------+\n",
            "\n"
          ],
          "name": "stdout"
        }
      ]
    },
    {
      "cell_type": "code",
      "metadata": {
        "colab": {
          "base_uri": "https://localhost:8080/",
          "height": 289
        },
        "id": "wwTNJtTGjjOt",
        "outputId": "bc074299-7581-4bbc-9c2b-e0504cccfeca"
      },
      "source": [
        "# Pasamos a la representación visual con pandas\r\n",
        "# Importamos pandas\r\n",
        "import pandas as pd\r\n",
        "    \r\n",
        "# Formato pandas\r\n",
        "pd_num_garajes = num_garajes.toPandas()\r\n",
        "\r\n",
        "# Dibujamos\r\n",
        "pd_num_garajes.plot(x=\"Garage_Cars\", y=\"avg(SalePrice)\", kind='bar');"
      ],
      "execution_count": 104,
      "outputs": [
        {
          "output_type": "display_data",
          "data": {
            "image/png": "[encoded data removed]",
            "text/plain": [
              "<Figure size 432x288 with 1 Axes>"
            ]
          },
          "metadata": {
            "tags": [],
            "needs_background": "light"
          }
        }
      ]
    },
    {
      "cell_type": "markdown",
      "metadata": {
        "id": "GwcpX26IylYV"
      },
      "source": [
        "Para valores de 3 y 4 garajas por casa obtenemos los niveles más altos de precios por encima de 1 y 2 garajes. Lo que resulta sorprendente sin embargo, es la bajada en el precio cuando se dan 5 garajes. Parece que aumentar el número de garajes indefinidamente, este factor deja de tener un efecto (positivo) sobre el precio de la vivienda"
      ]
    }
  ]
}